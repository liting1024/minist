{
 "cells": [
  {
   "cell_type": "markdown",
   "metadata": {},
   "source": [
    "https://www.jb51.net/article/167843.htm\n",
    "\n",
    "https://pytorch.org/get-started/locally/\n"
   ]
  },
  {
   "cell_type": "code",
   "execution_count": 6,
   "metadata": {
    "ExecuteTime": {
     "end_time": "2023-11-13T06:57:03.125547Z",
     "start_time": "2023-11-13T06:57:03.106203500Z"
    }
   },
   "outputs": [],
   "source": [
    "# ! conda install pytorch torchvision torchaudio pytorch-cuda=11.8 -c pytorch -c nvidia\n",
    "# ! pip install opencv-python\n",
    "# conda install matplotlib"
   ]
  },
  {
   "cell_type": "code",
   "execution_count": 3,
   "metadata": {
    "ExecuteTime": {
     "end_time": "2023-11-13T06:57:03.149865500Z",
     "start_time": "2023-11-13T06:57:03.117114600Z"
    }
   },
   "outputs": [],
   "source": [
    "# print all result\n",
    "from IPython.core.interactiveshell import InteractiveShell\n",
    "InteractiveShell.ast_node_interactivity = \"all\""
   ]
  },
  {
   "cell_type": "code",
   "execution_count": 4,
   "metadata": {
    "ExecuteTime": {
     "end_time": "2023-11-13T06:57:03.150363600Z",
     "start_time": "2023-11-13T06:57:03.132986800Z"
    }
   },
   "outputs": [],
   "source": [
    "import torch\n",
    "import torch.nn as nn\n",
    "import torch.nn.functional as F\n",
    "import torch.optim as optim\n",
    "import torchvision\n",
    "from torch.autograd import Variable\n",
    "from torch.utils.data import DataLoader\n",
    "import cv2"
   ]
  },
  {
   "cell_type": "code",
   "execution_count": 6,
   "metadata": {
    "ExecuteTime": {
     "end_time": "2023-11-13T06:57:03.208891800Z",
     "start_time": "2023-11-13T06:57:03.147868200Z"
    }
   },
   "outputs": [],
   "source": [
    "train_dataset = torchvision.datasets.MNIST(root='./dataset/',\n",
    "                train=True,\n",
    "                transform=torchvision.transforms.ToTensor(),\n",
    "                download=True)\n",
    "\n",
    "test_dataset = torchvision.datasets.MNIST(root='./dataset/',\n",
    "               train=False,\n",
    "               transform=torchvision.transforms.ToTensor(),\n",
    "               download=True)"
   ]
  },
  {
   "cell_type": "code",
   "execution_count": 7,
   "metadata": {
    "ExecuteTime": {
     "end_time": "2023-11-13T06:57:03.228235300Z",
     "start_time": "2023-11-13T06:57:03.210379500Z"
    }
   },
   "outputs": [
    {
     "data": {
      "text/plain": [
       "60000"
      ]
     },
     "execution_count": 7,
     "metadata": {},
     "output_type": "execute_result"
    },
    {
     "data": {
      "text/plain": [
       "10000"
      ]
     },
     "execution_count": 7,
     "metadata": {},
     "output_type": "execute_result"
    },
    {
     "data": {
      "text/plain": [
       "torch.Size([1, 28, 28])"
      ]
     },
     "execution_count": 7,
     "metadata": {},
     "output_type": "execute_result"
    }
   ],
   "source": [
    "batch_size = 9\n",
    "len(train_dataset) \n",
    "len(test_dataset)\n",
    "train_dataset[0][0].shape"
   ]
  },
  {
   "cell_type": "code",
   "execution_count": 8,
   "metadata": {
    "ExecuteTime": {
     "end_time": "2023-11-13T06:57:03.267434700Z",
     "start_time": "2023-11-13T06:57:03.225260Z"
    }
   },
   "outputs": [],
   "source": [
    "# 训练集\n",
    "train_loader = DataLoader(dataset=train_dataset,\n",
    "                      batch_size=batch_size,\n",
    "                      shuffle=True)\n",
    "# 测试集\n",
    "test_loader = DataLoader(dataset=test_dataset,\n",
    "                     batch_size=batch_size,\n",
    "                     shuffle=True)"
   ]
  },
  {
   "cell_type": "code",
   "execution_count": 97,
   "metadata": {
    "ExecuteTime": {
     "end_time": "2023-11-13T07:13:20.118193600Z",
     "start_time": "2023-11-13T07:13:19.889997400Z"
    }
   },
   "outputs": [],
   "source": [
    "# 去除批次维度（在索引0的位置）\n",
    "image, label = next(iter(DataLoader(dataset=train_dataset, batch_size=1)))\n",
    "\n",
    "import matplotlib.pyplot as plt\n",
    "def show_img(image, label):\n",
    "    # 可视化图像\n",
    "    image.shape\n",
    "    image = image.squeeze(0)\n",
    "    image.shape\n",
    "    plt.imshow(image[0])\n",
    "    plt.title(f'Label: {label.item()}')\n",
    "    plt.axis('off')  # 关闭坐标轴\n",
    "    plt.show()"
   ]
  },
  {
   "cell_type": "code",
   "execution_count": 114,
   "metadata": {},
   "outputs": [],
   "source": [
    "def show_img1d(image):\n",
    "    plt.imshow(image, aspect=10)\n",
    "    plt.gca().get_yaxis().set_visible(False)\n",
    "    plt.show()"
   ]
  },
  {
   "cell_type": "code",
   "execution_count": 115,
   "metadata": {},
   "outputs": [
    {
     "data": {
      "text/plain": [
       "torch.Size([1, 1, 28, 28])"
      ]
     },
     "execution_count": 115,
     "metadata": {},
     "output_type": "execute_result"
    },
    {
     "data": {
      "text/plain": [
       "torch.Size([1, 784])"
      ]
     },
     "execution_count": 115,
     "metadata": {},
     "output_type": "execute_result"
    },
    {
     "data": {
      "text/plain": [
       "torch.Size([1, 10])"
      ]
     },
     "execution_count": 115,
     "metadata": {},
     "output_type": "execute_result"
    },
    {
     "data": {
      "text/plain": [
       "tensor([[ 0.1412, -0.2411, -0.0258, -0.0446, -0.1025,  0.0400,  0.2362, -0.2961,\n",
       "         -0.0910, -0.1019]], grad_fn=<AddmmBackward0>)"
      ]
     },
     "execution_count": 115,
     "metadata": {},
     "output_type": "execute_result"
    },
    {
     "data": {
      "image/png": "[encoded data removed]",
      "text/plain": [
       "<Figure size 640x480 with 1 Axes>"
      ]
     },
     "metadata": {},
     "output_type": "display_data"
    }
   ],
   "source": [
    "import torch.nn as nn\n",
    "\n",
    "image.shape\n",
    "y1 = nn.Flatten()(image)\n",
    "y1.shape\n",
    "y2 = nn.Linear(in_features=784,out_features=10)(y1)\n",
    "y2.shape\n",
    "show_img1d(y1)"
   ]
  },
  {
   "cell_type": "code",
   "execution_count": 94,
   "metadata": {},
   "outputs": [],
   "source": [
    "def show_img3d(tensor):\n",
    "    tensor = tensor.detach().numpy()\n",
    "    tensor = tensor.squeeze(0)\n",
    "    # 如果有多个通道，迭代显示它们\n",
    "    fig, axs = plt.subplots(1, tensor.shape[0])\n",
    "    if axs.ndim == 1:  # 如果 axs 是一维的子图数组\n",
    "        for i, ax in enumerate(axs):\n",
    "            ax.imshow(tensor[i])\n",
    "            ax.set_title(f'ch {i+1}')\n",
    "            ax.axis('off')\n",
    "    else:  # 如果 axs 是一个单独的 Axes 对象，不是数组\n",
    "        axs.imshow(tensor[0])\n",
    "        axs.set_title('ch 1')\n",
    "        axs.axis('off')"
   ]
  },
  {
   "cell_type": "code",
   "execution_count": 95,
   "metadata": {},
   "outputs": [
    {
     "data": {
      "text/plain": [
       "torch.Size([1, 1, 28, 28])"
      ]
     },
     "execution_count": 95,
     "metadata": {},
     "output_type": "execute_result"
    },
    {
     "data": {
      "text/plain": [
       "torch.Size([1, 10, 26, 26])"
      ]
     },
     "execution_count": 95,
     "metadata": {},
     "output_type": "execute_result"
    },
    {
     "data": {
      "text/plain": [
       "torch.Size([1, 10, 13, 13])"
      ]
     },
     "execution_count": 95,
     "metadata": {},
     "output_type": "execute_result"
    },
    {
     "data": {
      "text/plain": [
       "torch.Size([1, 10, 13, 13])"
      ]
     },
     "execution_count": 95,
     "metadata": {},
     "output_type": "execute_result"
    },
    {
     "data": {
      "image/png": "[encoded data removed]",
      "text/plain": [
       "<Figure size 640x480 with 10 Axes>"
      ]
     },
     "metadata": {},
     "output_type": "display_data"
    },
    {
     "data": {
      "image/png": "[encoded data removed]",
      "text/plain": [
       "<Figure size 640x480 with 10 Axes>"
      ]
     },
     "metadata": {},
     "output_type": "display_data"
    },
    {
     "data": {
      "image/png": "[encoded data removed]",
      "text/plain": [
       "<Figure size 640x480 with 10 Axes>"
      ]
     },
     "metadata": {},
     "output_type": "display_data"
    }
   ],
   "source": [
    "image.shape\n",
    "y1 = nn.Conv2d(in_channels=1,out_channels=10,kernel_size=3)(image)\n",
    "y1.shape\n",
    "show_img3d(y1)\n",
    "y2 = nn.MaxPool2d(kernel_size=2)(y1)\n",
    "y2.shape\n",
    "show_img3d(y2)\n",
    "y3 = nn.Dropout(p=0.15)(y2)\n",
    "y3.shape\n",
    "show_img3d(y3)"
   ]
  },
  {
   "cell_type": "code",
   "execution_count": 20,
   "metadata": {
    "ExecuteTime": {
     "end_time": "2023-11-13T07:21:15.543598900Z",
     "start_time": "2023-11-13T07:21:11.883815100Z"
    },
    "collapsed": false
   },
   "outputs": [
    {
     "data": {
      "text/plain": [
       "True"
      ]
     },
     "execution_count": 20,
     "metadata": {},
     "output_type": "execute_result"
    }
   ],
   "source": [
    "torch.cuda.is_available()"
   ]
  }
 ],
 "metadata": {
  "kernelspec": {
   "display_name": "Python 3",
   "language": "python",
   "name": "python3"
  },
  "language_info": {
   "codemirror_mode": {
    "name": "ipython",
    "version": 3
   },
   "file_extension": ".py",
   "mimetype": "text/x-python",
   "name": "python",
   "nbconvert_exporter": "python",
   "pygments_lexer": "ipython3",
   "version": "3.9.18"
  }
 },
 "nbformat": 4,
 "nbformat_minor": 2
}
